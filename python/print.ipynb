{
 "cells": [
  {
   "cell_type": "code",
   "execution_count": 77,
   "id": "81a7548b",
   "metadata": {},
   "outputs": [
    {
     "name": "stdout",
     "output_type": "stream",
     "text": [
      "12 8 6.0 10 2\n"
     ]
    }
   ],
   "source": [
    "x =int(input())\n",
    "y = int(input())\n",
    "\n",
    "a = x+y\n",
    "b = x-y\n",
    "c = (x+y)/2\n",
    "d = max(x,y)\n",
    "e = min(x,y)\n",
    "print(a,b,c,d,e)"
   ]
  }
 ],
 "metadata": {
  "kernelspec": {
   "display_name": "Python 3",
   "language": "python",
   "name": "python3"
  },
  "language_info": {
   "codemirror_mode": {
    "name": "ipython",
    "version": 3
   },
   "file_extension": ".py",
   "mimetype": "text/x-python",
   "name": "python",
   "nbconvert_exporter": "python",
   "pygments_lexer": "ipython3",
   "version": "3.13.5"
  }
 },
 "nbformat": 4,
 "nbformat_minor": 5
}
